{
 "cells": [
  {
   "cell_type": "code",
   "execution_count": 4,
   "metadata": {},
   "outputs": [],
   "source": [
    "import glob, os\n",
    "import cv2\n",
    "import numpy as np"
   ]
  },
  {
   "cell_type": "code",
   "execution_count": 5,
   "metadata": {},
   "outputs": [
    {
     "name": "stdout",
     "output_type": "stream",
     "text": [
      "/content/drive/MyDrive/research/stylegan2encoder/out/rizin112/face-1024x1024/imgs/\n"
     ]
    }
   ],
   "source": [
    "ccr = 0.05\n",
    "\n",
    "path_img = '/content/drive/MyDrive/research/stylegan2encoder/out/rizin112/face-1024x1024/imgs/'\n",
    "# path_img = '/content/drive/MyDrive/research/stylegan2encoder/out/rizin112/face-1024x1024/2048/imgs/ccr' + f'{ccr:.02f}'\n",
    "\n",
    "print(path_img)"
   ]
  },
  {
   "cell_type": "code",
   "execution_count": 6,
   "metadata": {},
   "outputs": [
    {
     "name": "stdout",
     "output_type": "stream",
     "text": [
      "112\n"
     ]
    }
   ],
   "source": [
    "paths = glob.glob(os.path.join(path_img, '*.png'))\n",
    "paths = sorted(paths)\n",
    "print(len(paths))\n"
   ]
  },
  {
   "cell_type": "code",
   "execution_count": 25,
   "metadata": {},
   "outputs": [
    {
     "name": "stdout",
     "output_type": "stream",
     "text": [
      "112 (3, 1024, 1024)\n"
     ]
    }
   ],
   "source": [
    "imgs = []\n",
    "for path in paths:\n",
    "    img = cv2.imread(path)\n",
    "    img = cv2.cvtColor(img, cv2.COLOR_BGR2RGB)\n",
    "    img = img.transpose([2, 0, 1])\n",
    "    imgs.append(img)\n",
    "    # print(path)\n",
    "print(len(imgs), imgs[0].shape)"
   ]
  },
  {
   "cell_type": "code",
   "execution_count": 26,
   "metadata": {},
   "outputs": [],
   "source": [
    "imgs_np = np.array(imgs)\n",
    "print(imgs_np.shape)"
   ]
  },
  {
   "cell_type": "markdown",
   "metadata": {},
   "source": [
    "## 実装テスト"
   ]
  },
  {
   "cell_type": "code",
   "execution_count": 11,
   "metadata": {},
   "outputs": [],
   "source": [
    "def dataset_load_from_img(path_img=''):\n",
    "    # load dataset from npy\n",
    "    paths = glob.glob(os.path.join(path_img, '*.png'))\n",
    "    paths = sorted(paths)\n",
    "    \n",
    "    imgs = []\n",
    "    for path in paths:\n",
    "        img = cv2.imread(path)\n",
    "        img = cv2.cvtColor(img, cv2.COLOR_BGR2RGB)\n",
    "        img = img.transpose([2, 0, 1])\n",
    "        imgs.append(img)\n",
    "\n",
    "    imgs_np = np.array(imgs)\n",
    "    print(imgs_np.shape)\n",
    "    return imgs_np "
   ]
  },
  {
   "cell_type": "code",
   "execution_count": 12,
   "metadata": {},
   "outputs": [
    {
     "name": "stdout",
     "output_type": "stream",
     "text": [
      "(112, 3, 1024, 1024)\n"
     ]
    }
   ],
   "source": [
    "imgs = dataset_load_from_img(path_img)"
   ]
  }
 ],
 "metadata": {
  "kernelspec": {
   "display_name": "Python 3",
   "language": "python",
   "name": "python3"
  },
  "language_info": {
   "codemirror_mode": {
    "name": "ipython",
    "version": 3
   },
   "file_extension": ".py",
   "mimetype": "text/x-python",
   "name": "python",
   "nbconvert_exporter": "python",
   "pygments_lexer": "ipython3",
   "version": "3.7.13"
  },
  "orig_nbformat": 4
 },
 "nbformat": 4,
 "nbformat_minor": 2
}
